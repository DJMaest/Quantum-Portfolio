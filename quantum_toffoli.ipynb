{
  "cells": [
    {
      "cell_type": "markdown",
      "metadata": {
        "colab_type": "text",
        "id": "view-in-github"
      },
      "source": [
        "<a href=\"https://colab.research.google.com/github/DJMaest/Quantum-Portfolio/blob/main/quantum_toffoli.ipynb\" target=\"_parent\"><img src=\"https://colab.research.google.com/assets/colab-badge.svg\" alt=\"Open In Colab\"/></a>"
      ]
    },
    {
      "cell_type": "code",
      "execution_count": 1,
      "metadata": {
        "colab": {
          "base_uri": "https://localhost:8080/"
        },
        "id": "6U4CHrA0eBhH",
        "outputId": "c7c67ea7-e6c5-4e88-b10b-7e169cf608d9"
      },
      "outputs": [
        {
          "name": "stdout",
          "output_type": "stream",
          "text": [
            "[[1.00000000e+00+0.00000000e+00j 0.00000000e+00+0.00000000e+00j\n",
            "  0.00000000e+00+0.00000000e+00j 0.00000000e+00+0.00000000e+00j\n",
            "  0.00000000e+00+0.00000000e+00j 0.00000000e+00+0.00000000e+00j\n",
            "  0.00000000e+00+0.00000000e+00j 0.00000000e+00+0.00000000e+00j]\n",
            " [0.00000000e+00+0.00000000e+00j 1.00000000e+00+0.00000000e+00j\n",
            "  0.00000000e+00+0.00000000e+00j 0.00000000e+00+0.00000000e+00j\n",
            "  0.00000000e+00+0.00000000e+00j 0.00000000e+00+0.00000000e+00j\n",
            "  0.00000000e+00+0.00000000e+00j 0.00000000e+00+0.00000000e+00j]\n",
            " [0.00000000e+00+0.00000000e+00j 0.00000000e+00+0.00000000e+00j\n",
            "  1.00000000e+00+1.66533454e-16j 0.00000000e+00+0.00000000e+00j\n",
            "  0.00000000e+00+0.00000000e+00j 0.00000000e+00+0.00000000e+00j\n",
            "  0.00000000e+00+0.00000000e+00j 0.00000000e+00+0.00000000e+00j]\n",
            " [0.00000000e+00+0.00000000e+00j 0.00000000e+00+0.00000000e+00j\n",
            "  0.00000000e+00+0.00000000e+00j 1.00000000e+00+1.66533454e-16j\n",
            "  0.00000000e+00+0.00000000e+00j 0.00000000e+00+0.00000000e+00j\n",
            "  0.00000000e+00+0.00000000e+00j 0.00000000e+00+0.00000000e+00j]\n",
            " [0.00000000e+00+0.00000000e+00j 0.00000000e+00+0.00000000e+00j\n",
            "  0.00000000e+00+0.00000000e+00j 0.00000000e+00+0.00000000e+00j\n",
            "  1.00000000e+00+0.00000000e+00j 0.00000000e+00+0.00000000e+00j\n",
            "  0.00000000e+00+0.00000000e+00j 0.00000000e+00+0.00000000e+00j]\n",
            " [0.00000000e+00+0.00000000e+00j 0.00000000e+00+0.00000000e+00j\n",
            "  0.00000000e+00+0.00000000e+00j 0.00000000e+00+0.00000000e+00j\n",
            "  0.00000000e+00+0.00000000e+00j 1.00000000e+00+0.00000000e+00j\n",
            "  0.00000000e+00+0.00000000e+00j 0.00000000e+00+0.00000000e+00j]\n",
            " [0.00000000e+00+0.00000000e+00j 0.00000000e+00+0.00000000e+00j\n",
            "  0.00000000e+00+0.00000000e+00j 0.00000000e+00+0.00000000e+00j\n",
            "  0.00000000e+00+0.00000000e+00j 0.00000000e+00+0.00000000e+00j\n",
            "  1.23259516e-32+1.57009246e-16j 1.00000000e+00+0.00000000e+00j]\n",
            " [0.00000000e+00+0.00000000e+00j 0.00000000e+00+0.00000000e+00j\n",
            "  0.00000000e+00+0.00000000e+00j 0.00000000e+00+0.00000000e+00j\n",
            "  0.00000000e+00+0.00000000e+00j 0.00000000e+00+0.00000000e+00j\n",
            "  1.00000000e+00+0.00000000e+00j 1.23259516e-32+1.57009246e-16j]]\n"
          ]
        }
      ],
      "source": [
        "# Taken from Example 4.23, T. G. Wang, Introduction to classical and \n",
        "# Quantum computing\n",
        "import numpy as np\n",
        "\n",
        "H = 1/(2**0.5) * np.array([[1,1],[1,-1]])\n",
        "I = np.array([[1,0], [0,1]])\n",
        "S = np.array([[1,0], [0, 1j]])\n",
        "T = np.array([[1,0],[0, np.exp((np.pi/4)*1j)]])\n",
        "T_conjugate = np.conjugate(T)\n",
        "T_conjugate = np.transpose(T_conjugate)\n",
        "CNOT = np.array([[1,0,0,0],\n",
        "                 [0,1,0,0],\n",
        "                 [0,0,0,1],\n",
        "                 [0,0,1,0]])\n",
        "CNOT_2_0 = np.array([[1,0,0,0,0,0,0,0],\n",
        "                     [0,1,0,0,0,0,0,0],\n",
        "                     [0,0,1,0,0,0,0,0],\n",
        "                     [0,0,0,1,0,0,0,0],\n",
        "                     [0,0,0,0,0,1,0,0],\n",
        "                     [0,0,0,0,1,0,0,0],\n",
        "                     [0,0,0,0,0,0,0,1],\n",
        "                     [0,0,0,0,0,0,1,0]])\n",
        "# Evaluate Kronecker products\n",
        "I_I_H = np.kron(np.kron(I,I), H)\n",
        "I_CNOT = np.kron(I,CNOT)\n",
        "I_I_T_conjugate = np.kron(np.kron(I, I), T_conjugate)\n",
        "I_I_T = np.kron(np.kron(I, I), T)\n",
        "I_T_conjugate_T = np.kron(np.kron(I, T_conjugate), T)\n",
        "CNOT_H = np.kron(CNOT,H)\n",
        "I_T_conj_I = np.kron(np.kron(I,T_conjugate),I)\n",
        "CNOT_I = np.kron(CNOT, I)\n",
        "T_S_I = np.kron(np.kron(T, S), I)\n",
        "\n",
        "Toffoli = I_I_H@I_CNOT@I_I_T_conjugate@CNOT_2_0@I_I_T@I_CNOT@\\\n",
        "          I_I_T_conjugate@CNOT_2_0@I_T_conjugate_T@CNOT_H@\\\n",
        "          I_T_conj_I@CNOT_I@T_S_I\n",
        "\n",
        "print(Toffoli)"
      ]
    }
  ],
  "metadata": {
    "colab": {
      "authorship_tag": "ABX9TyN/d5j9V+Y5QnHBYk8zgK5g",
      "include_colab_link": true,
      "provenance": []
    },
    "kernelspec": {
      "display_name": "base",
      "language": "python",
      "name": "python3"
    },
    "language_info": {
      "codemirror_mode": {
        "name": "ipython",
        "version": 3
      },
      "file_extension": ".py",
      "mimetype": "text/x-python",
      "name": "python",
      "nbconvert_exporter": "python",
      "pygments_lexer": "ipython3",
      "version": "3.9.12"
    },
    "vscode": {
      "interpreter": {
        "hash": "8e47cd85ab974c8adaf39c5a1308b4368406783dcb92f647b58a3e62df9d5001"
      }
    }
  },
  "nbformat": 4,
  "nbformat_minor": 0
}
